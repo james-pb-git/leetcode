{
 "cells": [
  {
   "cell_type": "markdown",
   "metadata": {},
   "source": [
    "## 1012. Complement of Base 10 Integer"
   ]
  },
  {
   "cell_type": "code",
   "execution_count": 1,
   "metadata": {},
   "outputs": [],
   "source": [
    "class Solution:\n",
    "    def bitwiseComplement(self, N: int) -> int:\n",
    "        if N == 0: return 1\n",
    "        m = 0\n",
    "        n = N\n",
    "        while n != 0:\n",
    "            n = n >> 1\n",
    "            m += 1\n",
    "        return (2 ** m - 1) ^ N"
   ]
  },
  {
   "cell_type": "markdown",
   "metadata": {},
   "source": [
    "## 1013. Pairs of Songs With Total Durations Divisible by 60"
   ]
  },
  {
   "cell_type": "code",
   "execution_count": null,
   "metadata": {},
   "outputs": [],
   "source": [
    "class Solution:\n",
    "    def numPairsDivisibleBy60(self, time: List[int]) -> int:\n",
    "        cnt = 0\n",
    "        timeCounter = {}\n",
    "        for ele in time:\n",
    "            ele = ele % 60\n",
    "            expected = 60 - ele if ele != 0 else 0\n",
    "            if expected in timeCounter:\n",
    "                cnt += timeCounter[expected]\n",
    "            tmp = timeCounter.get(ele, 0)\n",
    "            tmp += 1\n",
    "            timeCounter[ele] = tmp\n",
    "        return cnt"
   ]
  },
  {
   "cell_type": "markdown",
   "metadata": {},
   "source": [
    "## 1014. Capacity To Ship Packages Within D Days"
   ]
  },
  {
   "cell_type": "code",
   "execution_count": null,
   "metadata": {},
   "outputs": [],
   "source": [
    "class Solution:\n",
    "    def shipWithinDays(self, weights: List[int], D: int) -> int:\n",
    "        left = 1\n",
    "        right = sum(weights)\n",
    "        while left < right:\n",
    "            mid = left + ((right - left) >> 1)\n",
    "            \n",
    "            cnt = 1\n",
    "            cur = 0\n",
    "            for ele in weights:\n",
    "                if cur + ele <= mid:\n",
    "                    cur += ele\n",
    "                else:\n",
    "                    if ele <= mid:\n",
    "                        cur = ele\n",
    "                        cnt += 1\n",
    "                    else:\n",
    "                        cnt += len(weights) + 1\n",
    "            if cnt <= D:\n",
    "                right = mid\n",
    "            else:\n",
    "                left = mid + 1\n",
    "        return left"
   ]
  }
 ],
 "metadata": {
  "kernelspec": {
   "display_name": "Python 3",
   "language": "python",
   "name": "python3"
  },
  "language_info": {
   "codemirror_mode": {
    "name": "ipython",
    "version": 3
   },
   "file_extension": ".py",
   "mimetype": "text/x-python",
   "name": "python",
   "nbconvert_exporter": "python",
   "pygments_lexer": "ipython3",
   "version": "3.6.5"
  }
 },
 "nbformat": 4,
 "nbformat_minor": 2
}
