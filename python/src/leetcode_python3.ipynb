{
 "cells": [
  {
   "cell_type": "markdown",
   "metadata": {},
   "source": [
    "## 985. Sum of Even Numbers After Queries"
   ]
  },
  {
   "cell_type": "code",
   "execution_count": 6,
   "metadata": {},
   "outputs": [],
   "source": [
    "def sumEvenAfterQueries(self, A: 'List[int]', queries: 'List[List[int]]') -> 'List[int]':\n",
    "    initial_sum = sum([val for val in A if val % 2 == 0])\n",
    "    ans = []\n",
    "    for idx in range(len(queries)):\n",
    "        ori_val = A[queries[idx][1]]\n",
    "        val_to_add = queries[idx][0]\n",
    "        A[queries[idx][1]] += val_to_add\n",
    "        if ori_val % 2 == 0:\n",
    "            if val_to_add % 2 == 0:\n",
    "                initial_sum += val_to_add\n",
    "            else:\n",
    "                initial_sum -= ori_val\n",
    "        elif val_to_add % 2 != 0:\n",
    "            initial_sum += ori_val + val_to_add\n",
    "        ans.append(initial_sum)\n",
    "    return ans"
   ]
  },
  {
   "cell_type": "markdown",
   "metadata": {},
   "source": [
    "#### Note: \n",
    "- No need to sum even values everytime the array A is updated."
   ]
  },
  {
   "cell_type": "markdown",
   "metadata": {},
   "source": [
    "## 986. Interval List Intersections"
   ]
  },
  {
   "cell_type": "code",
   "execution_count": null,
   "metadata": {},
   "outputs": [],
   "source": [
    "class Interval:\n",
    "    def __init__(self, s=0, e=0):\n",
    "        self.start = s\n",
    "        self.end = e\n",
    "\n",
    "def intervalIntersectionSol1(self, A: 'List[Interval]', B: 'List[Interval]') -> 'List[Interval]':\n",
    "    res = []\n",
    "    self.intervalIntersectionHelper(A, B, res)\n",
    "    return res\n",
    "def intervalIntersectionHelper(self, A: 'List[Interval]', B: 'List[Interval]', res: 'List[Interval]') -> 'None':\n",
    "    if A is None or len(A) == 0 or B is None or len(B) == 0:\n",
    "        return None\n",
    "    if A[0].start > B[0].start:\n",
    "        return self.intervalIntersectionHelper(B, A, res)\n",
    "    if A[0].end < B[0].start:\n",
    "        del A[0]\n",
    "        self.intervalIntersectionHelper(A, B, res)\n",
    "    else:\n",
    "        if A[0].end <= B[0].end:\n",
    "            res.append(Interval(B[0].start, A[0].end))\n",
    "            B[0].start = A[0].end\n",
    "            del A[0]\n",
    "            self.intervalIntersectionHelper(A, B, res)\n",
    "        else:\n",
    "            res.append(Interval(B[0].start, B[0].end))\n",
    "            A[0].start = B[0].end\n",
    "            del B[0]\n",
    "            self.intervalIntersectionHelper(A, B, res)\n",
    "    return None"
   ]
  },
  {
   "cell_type": "code",
   "execution_count": 7,
   "metadata": {},
   "outputs": [],
   "source": [
    "def intervalIntersectionSol2(self, A: 'List[Interval]', B: 'List[Interval]') -> 'List[Interval]':\n",
    "    if A is None or B is None:\n",
    "        return None\n",
    "    idx1 = 0\n",
    "    idx2 = 0\n",
    "    res = []\n",
    "    while idx1 < len(A) and idx2 < len(B):\n",
    "        if A[idx1].end < B[idx2].start:\n",
    "            idx1 += 1\n",
    "            continue\n",
    "        if B[idx2].end < A[idx1].start:\n",
    "            idx2 += 1\n",
    "            continue\n",
    "        res.append(Interval(max(A[idx1].start, B[idx2].start), min(A[idx1].end, B[idx2].end)))\n",
    "        if A[idx1].end < B[idx2].end:\n",
    "            idx1 += 1\n",
    "        else:\n",
    "            idx2 += 1\n",
    "    return res"
   ]
  },
  {
   "cell_type": "markdown",
   "metadata": {},
   "source": [
    "#### Note:\n",
    "- Recursion is not necessary. Solution2 is simlar to the merge phase in merge sort.\n",
    "- Even using recursion, we don't have to change original A and B, solution 1 could be improved."
   ]
  }
 ],
 "metadata": {
  "kernelspec": {
   "display_name": "Python 3",
   "language": "python",
   "name": "python3"
  },
  "language_info": {
   "codemirror_mode": {
    "name": "ipython",
    "version": 3
   },
   "file_extension": ".py",
   "mimetype": "text/x-python",
   "name": "python",
   "nbconvert_exporter": "python",
   "pygments_lexer": "ipython3",
   "version": "3.6.5"
  }
 },
 "nbformat": 4,
 "nbformat_minor": 2
}
