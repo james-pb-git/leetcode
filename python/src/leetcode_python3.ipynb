{
 "cells": [
  {
   "cell_type": "markdown",
   "metadata": {},
   "source": [
    "## 985. Sum of Even Numbers After Queries"
   ]
  },
  {
   "cell_type": "code",
   "execution_count": 6,
   "metadata": {},
   "outputs": [],
   "source": [
    "def sumEvenAfterQueries(self, A: 'List[int]', queries: 'List[List[int]]') -> 'List[int]':\n",
    "    initial_sum = sum([val for val in A if val % 2 == 0])\n",
    "    ans = []\n",
    "    for idx in range(len(queries)):\n",
    "        ori_val = A[queries[idx][1]]\n",
    "        val_to_add = queries[idx][0]\n",
    "        A[queries[idx][1]] += val_to_add\n",
    "        if ori_val % 2 == 0:\n",
    "            if val_to_add % 2 == 0:\n",
    "                initial_sum += val_to_add\n",
    "            else:\n",
    "                initial_sum -= ori_val\n",
    "        elif val_to_add % 2 != 0:\n",
    "            initial_sum += ori_val + val_to_add\n",
    "        ans.append(initial_sum)\n",
    "    return ans"
   ]
  },
  {
   "cell_type": "markdown",
   "metadata": {},
   "source": [
    "#### Note: \n",
    "- No need to sum even values everytime the array A is updated."
   ]
  },
  {
   "cell_type": "markdown",
   "metadata": {},
   "source": [
    "## 986. Interval List Intersections"
   ]
  },
  {
   "cell_type": "code",
   "execution_count": null,
   "metadata": {},
   "outputs": [],
   "source": [
    "# Solution 1\n",
    "class Interval:\n",
    "    def __init__(self, s=0, e=0):\n",
    "        self.start = s\n",
    "        self.end = e\n",
    "\n",
    "def intervalIntersection(self, A: 'List[Interval]', B: 'List[Interval]') -> 'List[Interval]':\n",
    "    res = []\n",
    "    self.intervalIntersectionHelper(A, B, res)\n",
    "    return res\n",
    "def intervalIntersectionHelper(self, A: 'List[Interval]', B: 'List[Interval]', res: 'List[Interval]') -> 'None':\n",
    "    if A is None or len(A) == 0 or B is None or len(B) == 0:\n",
    "        return None\n",
    "    if A[0].start > B[0].start:\n",
    "        return self.intervalIntersectionHelper(B, A, res)\n",
    "    if A[0].end < B[0].start:\n",
    "        del A[0]\n",
    "        self.intervalIntersectionHelper(A, B, res)\n",
    "    else:\n",
    "        if A[0].end <= B[0].end:\n",
    "            res.append(Interval(B[0].start, A[0].end))\n",
    "            B[0].start = A[0].end\n",
    "            del A[0]\n",
    "            self.intervalIntersectionHelper(A, B, res)\n",
    "        else:\n",
    "            res.append(Interval(B[0].start, B[0].end))\n",
    "            A[0].start = B[0].end\n",
    "            del B[0]\n",
    "            self.intervalIntersectionHelper(A, B, res)\n",
    "    return None"
   ]
  },
  {
   "cell_type": "code",
   "execution_count": 7,
   "metadata": {},
   "outputs": [],
   "source": [
    "# Solution 2\n",
    "def intervalIntersection(self, A: 'List[Interval]', B: 'List[Interval]') -> 'List[Interval]':\n",
    "    if A is None or B is None:\n",
    "        return None\n",
    "    idx1 = 0\n",
    "    idx2 = 0\n",
    "    res = []\n",
    "    while idx1 < len(A) and idx2 < len(B):\n",
    "        if A[idx1].end < B[idx2].start:\n",
    "            idx1 += 1\n",
    "            continue\n",
    "        if B[idx2].end < A[idx1].start:\n",
    "            idx2 += 1\n",
    "            continue\n",
    "        res.append(Interval(max(A[idx1].start, B[idx2].start), min(A[idx1].end, B[idx2].end)))\n",
    "        if A[idx1].end < B[idx2].end:\n",
    "            idx1 += 1\n",
    "        else:\n",
    "            idx2 += 1\n",
    "    return res"
   ]
  },
  {
   "cell_type": "markdown",
   "metadata": {},
   "source": [
    "#### Note:\n",
    "- Recursion is not necessary. Solution2 is simlar to the merge phase in merge sort.\n",
    "- Even using recursion, we don't have to change original A and B, solution 1 could be improved."
   ]
  },
  {
   "cell_type": "markdown",
   "metadata": {},
   "source": [
    "## 988. Smallest String Starting From Leaf"
   ]
  },
  {
   "cell_type": "code",
   "execution_count": null,
   "metadata": {},
   "outputs": [],
   "source": [
    "# Solution 1\n",
    "class TreeNode:\n",
    "    def __init__(self, x):\n",
    "        self.val = x\n",
    "        self.left = None\n",
    "        self.right = None\n",
    "def smallestFromLeaf(self, root: 'TreeNode') -> 'str':\n",
    "    if root is None:\n",
    "        return ''\n",
    "    params = ['', ''] # current string, min string\n",
    "    self.smallestFromLeafHelper(root, params)\n",
    "    return params[1]\n",
    "\n",
    "def smallestFromLeafHelper(self, root, params):\n",
    "    assert root is not None\n",
    "    params[0] = chr(97 + root.val) + params[0]\n",
    "    if root.left is None and root.right is not None:\n",
    "        self.smallestFromLeafHelper(root.right, params)\n",
    "    elif root.right is None and root.left is not None:\n",
    "        self.smallestFromLeafHelper(root.left, params)\n",
    "    elif root.right is None and root.left is None:\n",
    "        if len(params[1]) == 0 or params[0] < params[1]:\n",
    "            params[1] = params[0]\n",
    "    else:\n",
    "        self.smallestFromLeafHelper(root.left, params)\n",
    "        min_str = params[1]\n",
    "        self.smallestFromLeafHelper(root.right, params)\n",
    "        if params[1] > min_str:\n",
    "            params[1] = min_str\n",
    "    params[0] = params[0][1:]\n",
    "    return"
   ]
  },
  {
   "cell_type": "code",
   "execution_count": null,
   "metadata": {},
   "outputs": [],
   "source": [
    "# Solution 2 [WRONG SOLUTION]\n",
    "def smallestFromLeaf(self, root: 'TreeNode') -> 'str':\n",
    "    if root is None:\n",
    "        return ''\n",
    "    if root.right is None:\n",
    "        return self.smallestFromLeaf(root.left) + chr(97 + root.val)\n",
    "    if root.left is None:\n",
    "        return self.smallestFromLeaf(root.right) + chr(97 + root.val)\n",
    "    return min(self.smallestFromLeaf(root.left), self.smallestFromLeaf(root.right)) + chr(97 + root.val)"
   ]
  },
  {
   "cell_type": "code",
   "execution_count": null,
   "metadata": {},
   "outputs": [],
   "source": [
    "# Solution 3 [WRONG SOLUTION]\n",
    "def smallestFromLeaf(self, root: 'TreeNode') -> 'str':\n",
    "    if root is None:\n",
    "        return '|'\n",
    "    if root.right is None and root.left is None:\n",
    "        return chr(97 + root.val)\n",
    "    return min(self.smallestFromLeaf(root.left), self.smallestFromLeaf(root.right)) + chr(97 + root.val)"
   ]
  },
  {
   "cell_type": "markdown",
   "metadata": {},
   "source": [
    "#### Notes\n",
    "- Solution 1 is classical DFS. Notice that in order to modify the value of parameters, we have to put them in an array (or a Class object), even if there's only one parameter.\n",
    "- Solution 2 and 3 are *INCORRECT*, because divide and conquer doesn't work for this problem. To be more specific, given string X < string Y, it's not guaranteed that X+a < Y+a. See details in my post: https://leetcode.com/problems/smallest-string-starting-from-leaf/discuss/244205/divide-and-conquer-technique-doesnt-work-for-this-problem"
   ]
  },
  {
   "cell_type": "markdown",
   "metadata": {},
   "source": [
    "## 993. Cousins in Binary Tree "
   ]
  },
  {
   "cell_type": "code",
   "execution_count": 1,
   "metadata": {},
   "outputs": [],
   "source": [
    "class Solution:\n",
    "    def isCousins(self, root: 'TreeNode', x: 'int', y: 'int') -> 'bool':\n",
    "        depth_x, parent_x = self.getInfo(root, 0, None, x)\n",
    "        depth_y, parent_y = self.getInfo(root, 0, None, y)\n",
    "        return (depth_x == depth_y) and (parent_x.val != parent_y.val)\n",
    "    \n",
    "    def getInfo(self, root, depth, parent, target):\n",
    "        if root is None:\n",
    "            return [-1, parent]\n",
    "        if root.val == target:\n",
    "            return [depth, parent]\n",
    "        depth_l, parent_l = self.getInfo(root.left, depth + 1, root, target)\n",
    "        depth_r, parent_r = self.getInfo(root.right, depth + 1, root, target)\n",
    "        return [depth_l, parent_l] if depth_l != -1 else [depth_r, parent_r]"
   ]
  },
  {
   "cell_type": "markdown",
   "metadata": {},
   "source": [
    "## 994. Rotting Oranges"
   ]
  },
  {
   "cell_type": "code",
   "execution_count": 1,
   "metadata": {},
   "outputs": [],
   "source": [
    "class Solution:\n",
    "    def orangesRotting(self, grid: 'List[List[int]]') -> 'int':\n",
    "        prev = self.countFresh(grid)\n",
    "        time = 0\n",
    "        while True:\n",
    "            if prev == 0:\n",
    "                return time\n",
    "            new_grid = self.simulateNextMinute(grid)\n",
    "            time += 1\n",
    "            cur = self.countFresh(new_grid)\n",
    "            if cur == prev:\n",
    "                return -1\n",
    "            grid = new_grid\n",
    "            prev = cur\n",
    "    def countFresh(self, grid):\n",
    "        cnt = 0\n",
    "        for idx1 in range(len(grid)):\n",
    "            for idx2 in range(len(grid[0])):\n",
    "                if grid[idx1][idx2] == 1:\n",
    "                    cnt += 1\n",
    "        return cnt\n",
    "    def simulateNextMinute(self, grid):\n",
    "        # deep copy\n",
    "        res = []\n",
    "        for idx1 in range(len(grid)):\n",
    "            res.append([])\n",
    "            for idx2 in range(len(grid[0])):\n",
    "                res[idx1].append(grid[idx1][idx2])\n",
    "                \n",
    "        # update\n",
    "        for idx1 in range(len(grid)):\n",
    "            for idx2 in range(len(grid[0])):\n",
    "                if res[idx1][idx2] == 0 or res[idx1][idx2] == 2:\n",
    "                    continue\n",
    "                if (idx1 > 0 and grid[idx1 - 1][idx2] == 2) or \\\n",
    "                   (idx1 < len(grid) - 1 and grid[idx1 + 1][idx2] == 2) or \\\n",
    "                    (idx2 > 0 and grid[idx1][idx2 - 1] == 2) or \\\n",
    "                    (idx2 < len(grid[0]) - 1 and grid[idx1][idx2 + 1] == 2):\n",
    "                        res[idx1][idx2] = 2\n",
    "        return res"
   ]
  },
  {
   "cell_type": "markdown",
   "metadata": {},
   "source": [
    "#### Note\n",
    "Should've used BFS. See LeetcodeSelected Projects.\n",
    "\n",
    "## 990. Satisfiability of Equality Equations    "
   ]
  },
  {
   "cell_type": "code",
   "execution_count": 3,
   "metadata": {},
   "outputs": [],
   "source": [
    "class Solution:\n",
    "    def equationsPossible(self, equations: 'List[str]') -> 'bool':\n",
    "        # init map\n",
    "        letter_map = {}\n",
    "        for ch in 'abcdefghijklmnopqrstuvwxyz':\n",
    "            letter_map[ch] = ch\n",
    "            \n",
    "        for equation in equations:\n",
    "            # Assign groups\n",
    "            if equation[1] == '!':\n",
    "                continue\n",
    "            letter_map[self.getRoot(equation[3], letter_map)] = \\\n",
    "            self.getRoot(equation[0], letter_map)\n",
    "        \n",
    "        for equation in equations:\n",
    "            if equation[1] == \"!\":\n",
    "                if self.getRoot(equation[3], letter_map) == \\\n",
    "                self.getRoot(equation[0], letter_map):\n",
    "                    return False\n",
    "        return True\n",
    "    \n",
    "    def getRoot(self, char, letter_map):\n",
    "        while letter_map[char] != char:\n",
    "            char = letter_map[char]\n",
    "        return char"
   ]
  },
  {
   "cell_type": "markdown",
   "metadata": {},
   "source": [
    "#### Note\n",
    "Disjoint set / Union-find Set\n",
    "\n",
    "Key idea for union(x,y) operation: **getRoot(x).root := getRoot(y)**\n",
    "\n",
    "## 987. Vertical Order Traversal of a Binary Tree"
   ]
  },
  {
   "cell_type": "code",
   "execution_count": 4,
   "metadata": {},
   "outputs": [],
   "source": [
    "class Solution:\n",
    "    def verticalTraversal(self, root: 'TreeNode') -> 'List[List[int]]':\n",
    "        if root is None:\n",
    "            return []\n",
    "        node_map = {}\n",
    "        self.traverse_insert(root, 0, 0, node_map)\n",
    "        return self.sort_output(node_map)\n",
    "    \n",
    "    def traverse_insert(self, node, x, y, node_map):\n",
    "        self.insert(node_map, node.val, x, y)\n",
    "        if node.left is not None:\n",
    "            self.traverse_insert(node.left, x-1, y-1, node_map)\n",
    "        if node.right is not None:\n",
    "            self.traverse_insert(node.right, x+1, y-1, node_map)\n",
    "            \n",
    "    def insert(self, node_map, val, x, y):\n",
    "        if x not in node_map:\n",
    "            node_map[x] = {}\n",
    "        if y not in node_map[x]:\n",
    "            node_map[x][y] = set()\n",
    "        node_map[x][y].add(val)\n",
    "        \n",
    "    def sort_output(self, node_map):\n",
    "        res = []\n",
    "        sorted_x = sorted(node_map.items(), key=lambda x: x[0])\n",
    "        for ele in sorted_x:\n",
    "            sorted_y = sorted(ele[1].items(), key=lambda x: x[0], reverse=True)\n",
    "            res_ele = []\n",
    "            for tmp in sorted_y:\n",
    "                res_ele.extend(sorted(tmp[1]))\n",
    "            res.append(res_ele)\n",
    "        return res"
   ]
  },
  {
   "cell_type": "markdown",
   "metadata": {},
   "source": [
    "## 983.  Minimum Cost For Tickets [Unsolved]"
   ]
  },
  {
   "cell_type": "code",
   "execution_count": null,
   "metadata": {},
   "outputs": [],
   "source": [
    "# TLE: DFS\n",
    "class Solution:\n",
    "    def mincostTickets(self, days: 'List[int]', costs: 'List[int]') -> 'int':\n",
    "        return self.dfs(0, 0, 0, days, costs)\n",
    "    \n",
    "    def dfs(self, cur_idx, cur_cost, exp_date, days, costs):\n",
    "        if cur_idx == len(days):\n",
    "            return cur_cost\n",
    "        if days[cur_idx] >= exp_date:\n",
    "            cost1 = self.dfs(cur_idx + 1, cur_cost + costs[0],\n",
    "                            days[cur_idx] + 1, days, costs)\n",
    "            cost2 = self.dfs(cur_idx + 1, cur_cost + costs[1],\n",
    "                            days[cur_idx] + 7, days, costs)\n",
    "            cost3 = self.dfs(cur_idx + 1, cur_cost + costs[2],\n",
    "                            days[cur_idx] + 30, days, costs)\n",
    "            return min(cost1, min(cost2, cost3))\n",
    "        else:\n",
    "            return self.dfs(cur_idx + 1, cur_cost, exp_date, days, costs)"
   ]
  },
  {
   "cell_type": "markdown",
   "metadata": {},
   "source": [
    "## 981. Time Based Key-Value Store"
   ]
  },
  {
   "cell_type": "code",
   "execution_count": 3,
   "metadata": {},
   "outputs": [],
   "source": [
    "class TimeMap:\n",
    "\n",
    "    def __init__(self):\n",
    "        \"\"\"\n",
    "        Initialize your data structure here.\n",
    "        \"\"\"\n",
    "        self.kvt = {}\n",
    "        \n",
    "\n",
    "    def set(self, key: 'str', value: 'str', timestamp: 'int') -> 'None':\n",
    "        val_list = self.kvt.get(key, [])\n",
    "        val_list.append((timestamp, value))\n",
    "        self.kvt[key] = val_list\n",
    "\n",
    "    def get(self, key: 'str', timestamp: 'int') -> 'str':\n",
    "        if key not in self.kvt:\n",
    "            return \"\"\n",
    "        val_list = self.kvt[key]\n",
    "        return self.search_value(val_list, timestamp)\n",
    "\n",
    "    # Binary search\n",
    "    def search_value(self, val_list, timestamp):\n",
    "        left = 0\n",
    "        right = len(val_list) - 1\n",
    "        max_timestamp = val_list[right][0]\n",
    "        while left < right:\n",
    "            mid = left + int((right - left) / 2)\n",
    "            if timestamp <= val_list[mid][0]:\n",
    "                right = mid\n",
    "            else:\n",
    "                left = mid + 1\n",
    "        if val_list[left][0] == timestamp or timestamp > max_timestamp:\n",
    "            return val_list[left][1]\n",
    "        if left == 0:\n",
    "            return \"\"\n",
    "        return val_list[left-1][1]"
   ]
  },
  {
   "cell_type": "markdown",
   "metadata": {},
   "source": [
    "## 980. Unique Paths III"
   ]
  },
  {
   "cell_type": "code",
   "execution_count": 15,
   "metadata": {},
   "outputs": [],
   "source": [
    "class Solution:\n",
    "    def uniquePathsIII(self, grid: 'List[List[int]]') -> 'int':\n",
    "        # Look for starting point & count unvisited points\n",
    "        cntUnvisited = 1 # include starting point and all 0 points, not ending point.\n",
    "        startCoord = [-1, -1]\n",
    "        for idx1 in range(len(grid)):\n",
    "            for idx2 in range(len(grid[0])):\n",
    "                if grid[idx1][idx2] == 0:\n",
    "                    cntUnvisited += 1\n",
    "                elif grid[idx1][idx2] == 1:\n",
    "                    startCoord = [idx1, idx2]\n",
    "    \n",
    "        # params: cntUnvisited, visited, res\n",
    "        params = [cntUnvisited, set(), 0]\n",
    "        self.dfs(grid, startCoord, params)\n",
    "        return params[2]\n",
    "    \n",
    "    def dfs(self, grid, curCoord, params):\n",
    "        if curCoord[0] >= len(grid) or curCoord[0] < 0 or \\\n",
    "        curCoord[1] >= len(grid[0]) or curCoord[1] < 0:\n",
    "            return\n",
    "        if grid[curCoord[0]][curCoord[1]] == -1 or \\\n",
    "           (curCoord[0], curCoord[1]) in params[1]:\n",
    "            return\n",
    "        if grid[curCoord[0]][curCoord[1]] == 2:\n",
    "            if len(params[1]) == params[0]:\n",
    "                params[2] += 1\n",
    "            return\n",
    "        params[1].add((curCoord[0], curCoord[1]))\n",
    "        self.dfs(grid, [curCoord[0] + 1, curCoord[1]], params)\n",
    "        self.dfs(grid, [curCoord[0] - 1, curCoord[1]], params)\n",
    "        self.dfs(grid, [curCoord[0], curCoord[1] + 1], params)\n",
    "        self.dfs(grid, [curCoord[0], curCoord[1] - 1], params)\n",
    "        params[1].remove((curCoord[0], curCoord[1]))\n",
    "        return"
   ]
  },
  {
   "cell_type": "markdown",
   "metadata": {},
   "source": [
    "#### Notes\n",
    "Typical DFS (with backtracking)\n",
    "\n",
    "## 979. Distribute Coins in Binary Tree"
   ]
  },
  {
   "cell_type": "code",
   "execution_count": 17,
   "metadata": {},
   "outputs": [],
   "source": [
    "class Solution:\n",
    "    def distributeCoins(self, root: 'TreeNode') -> 'int':\n",
    "        params = [0] # res\n",
    "        self.helper(root, params)\n",
    "        return params[0]\n",
    "        \n",
    "    def helper(self, root, params):\n",
    "        if root is None:\n",
    "            return 0\n",
    "        left_balance = self.helper(root.left, params)\n",
    "        right_balance = self.helper(root.right, params)\n",
    "        params[0] += abs(left_balance) + abs(right_balance) + root.val - 1\n",
    "        return left_balance + right_balance + root.val - 1"
   ]
  },
  {
   "cell_type": "markdown",
   "metadata": {},
   "source": [
    "#### Note\n",
    "This is a little tricky to understand.\n",
    "\n",
    "## 978. Longest Turbulent Subarray"
   ]
  },
  {
   "cell_type": "code",
   "execution_count": 1,
   "metadata": {},
   "outputs": [],
   "source": [
    "class Solution:\n",
    "    def maxTurbulenceSize(self, A: 'List[int]') -> 'int':\n",
    "        start = 0\n",
    "        end = -1\n",
    "        maxLen = 0\n",
    "        sign = [0]\n",
    "        \n",
    "        for idx in range(len(A)):\n",
    "            if self.isTurbulent(A, start, idx, sign):\n",
    "                end = idx\n",
    "                maxLen = max(maxLen, end - start + 1)\n",
    "            else:\n",
    "                start = idx - 1\n",
    "        return maxLen\n",
    "    \n",
    "    def isTurbulent(self, A, start, end, sign):\n",
    "        if end == start:\n",
    "            return True\n",
    "        cur_sign = 1 if A[end] > A[end-1] else (-1 if A[end] < A[end-1] else 0)\n",
    "        if end - start == 1:\n",
    "            sign[0] = cur_sign\n",
    "            return sign[0] != 0\n",
    "        res = (cur_sign * sign[0] == -1)\n",
    "        sign[0] = cur_sign\n",
    "        return res"
   ]
  },
  {
   "cell_type": "markdown",
   "metadata": {},
   "source": [
    "## 974. Subarray Sums Divisible by K"
   ]
  },
  {
   "cell_type": "code",
   "execution_count": null,
   "metadata": {},
   "outputs": [],
   "source": [
    "# TLE: brute force\n",
    "class Solution:\n",
    "    def subarraysDivByK(self, A: 'List[int]', K: 'int') -> 'int':\n",
    "        if len(A) == 0:\n",
    "            return 0\n",
    "        sumA = [0, A[0]] # length of sumA will be length A + 1\n",
    "        for idx in range(1, len(A)):\n",
    "            sumA.append(sumA[idx] + A[idx])\n",
    "    \n",
    "        cnt = 0\n",
    "        for idx1 in range(0, len(A)):\n",
    "            for idx2 in range(idx1, len(A)):\n",
    "                partialSum = sumA[idx2 + 1] - sumA[idx1]\n",
    "                if int(partialSum / K) * K == partialSum:\n",
    "                    cnt += 1\n",
    "        return cnt"
   ]
  },
  {
   "cell_type": "code",
   "execution_count": 3,
   "metadata": {},
   "outputs": [],
   "source": [
    "# Improved and accepted.\n",
    "class Solution:\n",
    "    def subarraysDivByK(self, A: 'List[int]', K: 'int') -> 'int':\n",
    "        sumSoFar = 0\n",
    "        mapMod = [1] + [0] * K\n",
    "        res = 0\n",
    "        for ele in A:\n",
    "            sumSoFar += ele\n",
    "            res += mapMod[sumSoFar % K]\n",
    "            mapMod[sumSoFar % K] += 1\n",
    "        return res"
   ]
  },
  {
   "cell_type": "markdown",
   "metadata": {},
   "source": [
    "#### Note\n",
    "1. Prefix sum - common technique useful for similar problems.\n",
    "2. **Important one:** if sum_of_A[ 0 .. i ] % K == sum_of_A[ 0 .. j ] % K, then sum_of_A[ i .. j ] % K == 0, in other words, sum_of_A[ i .. j ] is divisible by K. This leads us to the idea of a hashmap (or simpler, an array of length K).\n",
    "\n",
    "## 971. Flip Binary Tree To Match Preorder Traversal    "
   ]
  },
  {
   "cell_type": "code",
   "execution_count": null,
   "metadata": {},
   "outputs": [],
   "source": [
    "class Solution:\n",
    "    def flipMatchVoyage(self, root: 'TreeNode', voyage: 'List[int]') -> 'List[int]':\n",
    "        res = []\n",
    "        idx = [0]\n",
    "        self.flipHelper(root, voyage, idx, res)\n",
    "        if len(res) > 0 and res[0] == -1:\n",
    "            return [-1]\n",
    "        return res\n",
    "        \n",
    "    def flipHelper(self, root, voyage, idx, res):\n",
    "        if root is None:\n",
    "            return \n",
    "        if root.val != voyage[idx[0]]:\n",
    "            res.insert(0, -1)\n",
    "            return\n",
    "        idx[0] += 1\n",
    "        if root.left is not None and root.left.val != voyage[idx[0]]:\n",
    "            res.append(root.val)\n",
    "            self.flipHelper(root.right, voyage, idx, res)\n",
    "            self.flipHelper(root.left, voyage, idx, res)\n",
    "        else:\n",
    "            self.flipHelper(root.left, voyage, idx, res)\n",
    "            self.flipHelper(root.right, voyage, idx, res)\n",
    "        return"
   ]
  },
  {
   "cell_type": "markdown",
   "metadata": {},
   "source": [
    "#### Note\n",
    "DFS through a binary tree.\n",
    "\n",
    "## 969. Pancake Sorting"
   ]
  },
  {
   "cell_type": "code",
   "execution_count": 14,
   "metadata": {},
   "outputs": [],
   "source": [
    "class Solution:\n",
    "    def pancakeSort(self, A):\n",
    "        res = []\n",
    "        arr = A[:]\n",
    "        for idx in range(len(arr)-1, -1, -1):\n",
    "            maxIdx = self.findMaxIdx(arr[:idx+1])\n",
    "            if maxIdx == idx:\n",
    "                continue\n",
    "            self.mvMaxToEnd(arr, maxIdx, idx)\n",
    "            if maxIdx + 1 > 1:\n",
    "                res.append(maxIdx + 1)\n",
    "            if idx + 1 > 1:\n",
    "                res.append(idx + 1)\n",
    "        return res\n",
    "            \n",
    "    def findMaxIdx(self, arr):\n",
    "        if len(arr) == 0:\n",
    "            return -1\n",
    "        maxVal = arr[0] - 1\n",
    "        maxIdx = -1\n",
    "        for idx in range(len(arr)):\n",
    "            if arr[idx] > maxVal:\n",
    "                maxVal = arr[idx]\n",
    "                maxIdx = idx\n",
    "        return maxIdx\n",
    "    \n",
    "    def mvMaxToEnd(self, arr, maxIdx, idx):\n",
    "        self.reverse(arr, maxIdx+1, idx)\n",
    "        tmp = arr[maxIdx+1:idx+1]\n",
    "        arr[idx - maxIdx: idx+1] = arr[0:maxIdx + 1]\n",
    "        arr[0:idx - maxIdx] = tmp\n",
    "        \n",
    "    def reverse(self, arr, start, end):\n",
    "        while end > start:\n",
    "            arr[start], arr[end] = arr[end], arr[start]\n",
    "            start += 1\n",
    "            end -= 1\n",
    "        return"
   ]
  },
  {
   "cell_type": "markdown",
   "metadata": {},
   "source": [
    "## 967. Numbers With Same Consecutive Differences"
   ]
  },
  {
   "cell_type": "code",
   "execution_count": 18,
   "metadata": {},
   "outputs": [],
   "source": [
    "class Solution:\n",
    "    def numsSameConsecDiff(self, N, K):\n",
    "        \"\"\"\n",
    "        :type N: int\n",
    "        :type K: int\n",
    "        :rtype: List[int]\n",
    "        \"\"\"\n",
    "        res = []\n",
    "        for val in range(1, 10):\n",
    "            self.dfs(N, K, 0, [val], res)\n",
    "        if N == 1:\n",
    "            res.append(0)\n",
    "        return res\n",
    "        \n",
    "    def dfs(self, N, K, curIdx, arrVal, res):\n",
    "        if curIdx == N - 1:\n",
    "            curVal = 0\n",
    "            base = 1\n",
    "            for idx in range(len(arrVal) - 1, -1, -1):\n",
    "                curVal += arrVal[idx] * base\n",
    "                base *= 10\n",
    "            res.append(curVal)\n",
    "            return\n",
    "        if arrVal[-1] - K >= 0:\n",
    "            arrVal.append(arrVal[-1] - K)\n",
    "            self.dfs(N, K, curIdx + 1, arrVal, res)\n",
    "            del arrVal[-1]\n",
    "        if K!= 0 and arrVal[-1] + K <= 9:\n",
    "            arrVal.append(arrVal[-1] + K)\n",
    "            self.dfs(N, K, curIdx + 1, arrVal, res)\n",
    "            del arrVal[-1]\n",
    "        return"
   ]
  },
  {
   "cell_type": "markdown",
   "metadata": {},
   "source": [
    "#### Note\n",
    "Classical backtracking.\n",
    "\n",
    "## 966. Vowel Spellchecker"
   ]
  },
  {
   "cell_type": "code",
   "execution_count": 27,
   "metadata": {},
   "outputs": [],
   "source": [
    "class Solution:\n",
    "    def spellchecker(self, wordlist, queries):\n",
    "        # preprocessing\n",
    "        exact = set()\n",
    "        cap = {}\n",
    "        vowel = {}\n",
    "        for idx in range(len(wordlist)-1, -1, -1):\n",
    "            exact.add(wordlist[idx])\n",
    "            cap[wordlist[idx].lower()] = wordlist[idx]\n",
    "            vowel[self.replaceVowel(wordlist[idx])] = wordlist[idx]\n",
    "        \n",
    "        # start searching\n",
    "        res = []\n",
    "        for query in queries:\n",
    "            res.append(self.search(query, exact, cap, vowel))\n",
    "        return res\n",
    "    def search(self, query, exact, cap, vowel):\n",
    "        if query in exact:\n",
    "            return query\n",
    "        if query.lower() in cap:\n",
    "            return cap[query.lower()]\n",
    "        word = self.replaceVowel(query)\n",
    "        if word in vowel:\n",
    "            return vowel[word]\n",
    "        return ''\n",
    "    \n",
    "    def replaceVowel(self, word):\n",
    "        new_word = ''\n",
    "        pos = 0\n",
    "        for i, ch in enumerate(word.lower()):\n",
    "            if ch in ['a', 'e', 'i', 'o', 'u']:\n",
    "                new_word += word[pos:i] + '-'\n",
    "                pos = i+1\n",
    "        new_word += word[pos:]\n",
    "        return new_word.lower()"
   ]
  },
  {
   "cell_type": "markdown",
   "metadata": {},
   "source": [
    "#### Note\n",
    "In a typical querying situation, we try to come up with some features to extract, and compare the feature of the query with all candidates in the dataset (word list).\n",
    "\n",
    "A commom technique to acceralte is to precompute the features of all elements in dataset, so that we don't have to do that again in real time searching.\n",
    "\n",
    "However, the highlight of the problem is:\n",
    "**In order to check whether a candidate could be the result of replacing some vowels to other vowels, the feature we need here is to change all vowels to a special character, and change all charaters to lower case e.g.:**\n",
    "\n",
    "**KiTe -> k_t_ == k_t_ <- kato**\n",
    "\n",
    "## 962. Maximum Width Ramp"
   ]
  },
  {
   "cell_type": "code",
   "execution_count": 4,
   "metadata": {},
   "outputs": [
    {
     "data": {
      "text/plain": [
       "False"
      ]
     },
     "execution_count": 4,
     "metadata": {},
     "output_type": "execute_result"
    }
   ],
   "source": [
    "class Solution:\n",
    "    def maxWidthRamp(self, A: List[int]) -> int:\n",
    "        if len(A) == 0:\n",
    "            return 0\n",
    "        startCandidates = []\n",
    "        minStartVal = A[0] + 1\n",
    "        for idx, ele in enumerate(A):\n",
    "            if ele < minStartVal:\n",
    "                minStartVal = ele\n",
    "                startCandidates.append(idx)\n",
    "                \n",
    "        res = 0\n",
    "        startIdx = len(startCandidates) - 1\n",
    "        maxEndVal = A[-1] - 1\n",
    "        for idx in range(len(A) - 1, -1, -1):\n",
    "            if A[idx] > maxEndVal:\n",
    "                while startIdx > 0 and \\\n",
    "                startCandidates[startIdx] >= idx:\n",
    "                    startIdx -= 1\n",
    "                while startIdx >= 0 and \\\n",
    "                A[idx] >= A[startCandidates[startIdx]]:\n",
    "                    startIdx -= 1\n",
    "                res = max(res, idx - startCandidates[startIdx + 1])\n",
    "        return res"
   ]
  },
  {
   "cell_type": "markdown",
   "metadata": {},
   "source": [
    "#### Note\n",
    "An really interesting problem about searching among subarrays. While the searching space is n^2, we can improve the time efficiency to O(n) by removing redundant work. The basic idea is:\n",
    "\n",
    "- For starting points of ramp: if A[1] >= A[0], then any ramp starting from A[1] could be extended to A[0], and the width get larger at the same time. So for starting candidates, we only need to consider a decreasing series starting from A[0].\n",
    "- For similar reasons, the ending point candidates are an increasing series starting from A[-1]\n",
    "- Let's say we've found A[i .. j] form a ramp, where i, j are in candidates series metioned above. To search for the next ramp ending at some point before j, there's no need to consider starting point after i. In other words, we just keep decreasing i and j, and after this one time iteration, we will have found all ramps that need considering.\n",
    "\n",
    "So the final time efficiency is O(n).\n"
   ]
  },
  {
   "cell_type": "code",
   "execution_count": 2,
   "metadata": {},
   "outputs": [
    {
     "data": {
      "text/plain": [
       "'\\\\'"
      ]
     },
     "execution_count": 2,
     "metadata": {},
     "output_type": "execute_result"
    }
   ],
   "source": [
    "s = '\\\\'\n",
    "s[0]"
   ]
  },
  {
   "cell_type": "code",
   "execution_count": null,
   "metadata": {},
   "outputs": [],
   "source": []
  }
 ],
 "metadata": {
  "kernelspec": {
   "display_name": "Python 3",
   "language": "python",
   "name": "python3"
  },
  "language_info": {
   "codemirror_mode": {
    "name": "ipython",
    "version": 3
   },
   "file_extension": ".py",
   "mimetype": "text/x-python",
   "name": "python",
   "nbconvert_exporter": "python",
   "pygments_lexer": "ipython3",
   "version": "3.6.5"
  }
 },
 "nbformat": 4,
 "nbformat_minor": 2
}
