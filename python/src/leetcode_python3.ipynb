{
 "cells": [
  {
   "cell_type": "markdown",
   "metadata": {},
   "source": [
    "## 985. Sum of Even Numbers After Queries"
   ]
  },
  {
   "cell_type": "code",
   "execution_count": 6,
   "metadata": {},
   "outputs": [],
   "source": [
    "def sumEvenAfterQueries(self, A: 'List[int]', queries: 'List[List[int]]') -> 'List[int]':\n",
    "    initial_sum = sum([val for val in A if val % 2 == 0])\n",
    "    ans = []\n",
    "    for idx in range(len(queries)):\n",
    "        ori_val = A[queries[idx][1]]\n",
    "        val_to_add = queries[idx][0]\n",
    "        A[queries[idx][1]] += val_to_add\n",
    "        if ori_val % 2 == 0:\n",
    "            if val_to_add % 2 == 0:\n",
    "                initial_sum += val_to_add\n",
    "            else:\n",
    "                initial_sum -= ori_val\n",
    "        elif val_to_add % 2 != 0:\n",
    "            initial_sum += ori_val + val_to_add\n",
    "        ans.append(initial_sum)\n",
    "    return ans"
   ]
  },
  {
   "cell_type": "markdown",
   "metadata": {},
   "source": [
    "#### Note: \n",
    "- No need to sum even values everytime the array A is updated."
   ]
  },
  {
   "cell_type": "markdown",
   "metadata": {},
   "source": [
    "## 986. Interval List Intersections"
   ]
  },
  {
   "cell_type": "code",
   "execution_count": null,
   "metadata": {},
   "outputs": [],
   "source": [
    "# Solution 1\n",
    "class Interval:\n",
    "    def __init__(self, s=0, e=0):\n",
    "        self.start = s\n",
    "        self.end = e\n",
    "\n",
    "def intervalIntersection(self, A: 'List[Interval]', B: 'List[Interval]') -> 'List[Interval]':\n",
    "    res = []\n",
    "    self.intervalIntersectionHelper(A, B, res)\n",
    "    return res\n",
    "def intervalIntersectionHelper(self, A: 'List[Interval]', B: 'List[Interval]', res: 'List[Interval]') -> 'None':\n",
    "    if A is None or len(A) == 0 or B is None or len(B) == 0:\n",
    "        return None\n",
    "    if A[0].start > B[0].start:\n",
    "        return self.intervalIntersectionHelper(B, A, res)\n",
    "    if A[0].end < B[0].start:\n",
    "        del A[0]\n",
    "        self.intervalIntersectionHelper(A, B, res)\n",
    "    else:\n",
    "        if A[0].end <= B[0].end:\n",
    "            res.append(Interval(B[0].start, A[0].end))\n",
    "            B[0].start = A[0].end\n",
    "            del A[0]\n",
    "            self.intervalIntersectionHelper(A, B, res)\n",
    "        else:\n",
    "            res.append(Interval(B[0].start, B[0].end))\n",
    "            A[0].start = B[0].end\n",
    "            del B[0]\n",
    "            self.intervalIntersectionHelper(A, B, res)\n",
    "    return None"
   ]
  },
  {
   "cell_type": "code",
   "execution_count": 7,
   "metadata": {},
   "outputs": [],
   "source": [
    "# Solution 2\n",
    "def intervalIntersection(self, A: 'List[Interval]', B: 'List[Interval]') -> 'List[Interval]':\n",
    "    if A is None or B is None:\n",
    "        return None\n",
    "    idx1 = 0\n",
    "    idx2 = 0\n",
    "    res = []\n",
    "    while idx1 < len(A) and idx2 < len(B):\n",
    "        if A[idx1].end < B[idx2].start:\n",
    "            idx1 += 1\n",
    "            continue\n",
    "        if B[idx2].end < A[idx1].start:\n",
    "            idx2 += 1\n",
    "            continue\n",
    "        res.append(Interval(max(A[idx1].start, B[idx2].start), min(A[idx1].end, B[idx2].end)))\n",
    "        if A[idx1].end < B[idx2].end:\n",
    "            idx1 += 1\n",
    "        else:\n",
    "            idx2 += 1\n",
    "    return res"
   ]
  },
  {
   "cell_type": "markdown",
   "metadata": {},
   "source": [
    "#### Note:\n",
    "- Recursion is not necessary. Solution2 is simlar to the merge phase in merge sort.\n",
    "- Even using recursion, we don't have to change original A and B, solution 1 could be improved."
   ]
  },
  {
   "cell_type": "markdown",
   "metadata": {},
   "source": [
    "## 988. Smallest String Starting From Leaf"
   ]
  },
  {
   "cell_type": "code",
   "execution_count": null,
   "metadata": {},
   "outputs": [],
   "source": [
    "# Solution 1\n",
    "class TreeNode:\n",
    "    def __init__(self, x):\n",
    "        self.val = x\n",
    "        self.left = None\n",
    "        self.right = None\n",
    "def smallestFromLeaf(self, root: 'TreeNode') -> 'str':\n",
    "    if root is None:\n",
    "        return ''\n",
    "    params = ['', ''] # current string, min string\n",
    "    self.smallestFromLeafHelper(root, params)\n",
    "    return params[1]\n",
    "\n",
    "def smallestFromLeafHelper(self, root, params):\n",
    "    assert root is not None\n",
    "    params[0] = chr(97 + root.val) + params[0]\n",
    "    if root.left is None and root.right is not None:\n",
    "        self.smallestFromLeafHelper(root.right, params)\n",
    "    elif root.right is None and root.left is not None:\n",
    "        self.smallestFromLeafHelper(root.left, params)\n",
    "    elif root.right is None and root.left is None:\n",
    "        if len(params[1]) == 0 or params[0] < params[1]:\n",
    "            params[1] = params[0]\n",
    "    else:\n",
    "        self.smallestFromLeafHelper(root.left, params)\n",
    "        min_str = params[1]\n",
    "        self.smallestFromLeafHelper(root.right, params)\n",
    "        if params[1] > min_str:\n",
    "            params[1] = min_str\n",
    "    params[0] = params[0][1:]\n",
    "    return"
   ]
  },
  {
   "cell_type": "code",
   "execution_count": null,
   "metadata": {},
   "outputs": [],
   "source": [
    "# Solution 2\n",
    "def smallestFromLeaf(self, root: 'TreeNode') -> 'str':\n",
    "    if root is None:\n",
    "        return ''\n",
    "    if root.right is None:\n",
    "        return self.smallestFromLeaf(root.left) + chr(97 + root.val)\n",
    "    if root.left is None:\n",
    "        return self.smallestFromLeaf(root.right) + chr(97 + root.val)\n",
    "    return min(self.smallestFromLeaf(root.left), self.smallestFromLeaf(root.right)) + chr(97 + root.val)"
   ]
  },
  {
   "cell_type": "code",
   "execution_count": null,
   "metadata": {},
   "outputs": [],
   "source": [
    "# Solution 3\n",
    "def smallestFromLeaf(self, root: 'TreeNode') -> 'str':\n",
    "    if root is None:\n",
    "        return '|'\n",
    "    if root.right is None and root.left is None:\n",
    "        return chr(97 + root.val)\n",
    "    return min(self.smallestFromLeaf(root.left), self.smallestFromLeaf(root.right)) + chr(97 + root.val)"
   ]
  },
  {
   "cell_type": "markdown",
   "metadata": {},
   "source": [
    "#### Notes\n",
    "- Solution 1 is classical DFS. Notice that in order to modify the value of parameters, we have to put them in an array (or a Class object), even if there's only one parameter.\n",
    "- Solution 2 is better because DFS is not necessary, and divide and conquer is enough. (We only need two local solutions to decide the global optimal solution.\n",
    "- Solution 3 is based on solution 2, where a little trick is used ('|' > 'z'), so the logic is simpler."
   ]
  },
  {
   "cell_type": "markdown",
   "metadata": {},
   "source": [
    "## 993. Cousins in Binary Tree "
   ]
  },
  {
   "cell_type": "code",
   "execution_count": 1,
   "metadata": {},
   "outputs": [],
   "source": [
    "class Solution:\n",
    "    def isCousins(self, root: 'TreeNode', x: 'int', y: 'int') -> 'bool':\n",
    "        depth_x, parent_x = self.getInfo(root, 0, None, x)\n",
    "        depth_y, parent_y = self.getInfo(root, 0, None, y)\n",
    "        return (depth_x == depth_y) and (parent_x.val != parent_y.val)\n",
    "    \n",
    "    def getInfo(self, root, depth, parent, target):\n",
    "        if root is None:\n",
    "            return [-1, parent]\n",
    "        if root.val == target:\n",
    "            return [depth, parent]\n",
    "        depth_l, parent_l = self.getInfo(root.left, depth + 1, root, target)\n",
    "        depth_r, parent_r = self.getInfo(root.right, depth + 1, root, target)\n",
    "        return [depth_l, parent_l] if depth_l != -1 else [depth_r, parent_r]"
   ]
  },
  {
   "cell_type": "markdown",
   "metadata": {},
   "source": [
    "## 994. Rotting Oranges"
   ]
  },
  {
   "cell_type": "code",
   "execution_count": null,
   "metadata": {},
   "outputs": [],
   "source": [
    "class Solution:\n",
    "    def orangesRotting(self, grid: 'List[List[int]]') -> 'int':\n",
    "        prev = self.countFresh(grid)\n",
    "        time = 0\n",
    "        while True:\n",
    "            if prev == 0:\n",
    "                return time\n",
    "            new_grid = self.simulateNextMinute(grid)\n",
    "            time += 1\n",
    "            cur = self.countFresh(new_grid)\n",
    "            if cur == prev:\n",
    "                return -1\n",
    "            grid = new_grid\n",
    "            prev = cur\n",
    "    def countFresh(self, grid):\n",
    "        cnt = 0\n",
    "        for idx1 in range(len(grid)):\n",
    "            for idx2 in range(len(grid[0])):\n",
    "                if grid[idx1][idx2] == 1:\n",
    "                    cnt += 1\n",
    "        return cnt\n",
    "    def simulateNextMinute(self, grid):\n",
    "        # deep copy\n",
    "        res = []\n",
    "        for idx1 in range(len(grid)):\n",
    "            res.append([])\n",
    "            for idx2 in range(len(grid[0])):\n",
    "                res[idx1].append(grid[idx1][idx2])\n",
    "                \n",
    "        # update\n",
    "        for idx1 in range(len(grid)):\n",
    "            for idx2 in range(len(grid[0])):\n",
    "                if res[idx1][idx2] == 0 or res[idx1][idx2] == 2:\n",
    "                    continue\n",
    "                if (idx1 > 0 and grid[idx1 - 1][idx2] == 2) or \\\n",
    "                   (idx1 < len(grid) - 1 and grid[idx1 + 1][idx2] == 2) or \\\n",
    "                    (idx2 > 0 and grid[idx1][idx2 - 1] == 2) or \\\n",
    "                    (idx2 < len(grid[0]) - 1 and grid[idx1][idx2 + 1] == 2):\n",
    "                        res[idx1][idx2] = 2\n",
    "        return res"
   ]
  }
 ],
 "metadata": {
  "kernelspec": {
   "display_name": "Python 3",
   "language": "python",
   "name": "python3"
  },
  "language_info": {
   "codemirror_mode": {
    "name": "ipython",
    "version": 3
   },
   "file_extension": ".py",
   "mimetype": "text/x-python",
   "name": "python",
   "nbconvert_exporter": "python",
   "pygments_lexer": "ipython3",
   "version": "3.6.5"
  }
 },
 "nbformat": 4,
 "nbformat_minor": 2
}
