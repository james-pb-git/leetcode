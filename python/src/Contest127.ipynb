{
 "cells": [
  {
   "cell_type": "markdown",
   "metadata": {},
   "source": [
    "## 1005. Maximize Sum Of Array After K Negations"
   ]
  },
  {
   "cell_type": "code",
   "execution_count": 3,
   "metadata": {},
   "outputs": [],
   "source": [
    "class Solution:\n",
    "    def largestSumAfterKNegations(self, A: 'List[int]', K: int) -> int:\n",
    "        for _ in range(K):\n",
    "            min_val = A[0] + 1\n",
    "            min_idx = -1\n",
    "            for idx, num in enumerate(A):\n",
    "                if num < min_val:\n",
    "                    min_idx = idx\n",
    "                    min_val = num\n",
    "            A[min_idx] = -A[min_idx]\n",
    "        return sum(A)"
   ]
  },
  {
   "cell_type": "markdown",
   "metadata": {},
   "source": [
    "## 1006. Clumsy Factorial"
   ]
  },
  {
   "cell_type": "code",
   "execution_count": 4,
   "metadata": {},
   "outputs": [],
   "source": [
    "import math\n",
    "class Solution:\n",
    "    def clumsy(self, N: int) -> int:\n",
    "        starter = {1: 1, 2: 2, 3: 6, 4: 7}\n",
    "        if N in starter:\n",
    "            return starter[N]\n",
    "        part1 = [0] * N\n",
    "        part2 = [0] * N\n",
    "        part1[0:4] = [1, 2, 6, 6]\n",
    "        part2[0:4] = [0, 0, 0, 1]\n",
    "        for idx in range(4, N):\n",
    "            part1[idx] = math.floor((idx+1) * idx / (idx-1))\n",
    "            part2[idx] = (idx-2) - part1[idx-4] + part2[idx-4]\n",
    "        return part1[N-1] + part2[N-1]"
   ]
  },
  {
   "cell_type": "markdown",
   "metadata": {},
   "source": [
    "## 1007. Minimum Domino Rotations For Equal Row"
   ]
  },
  {
   "cell_type": "code",
   "execution_count": 7,
   "metadata": {},
   "outputs": [],
   "source": [
    "class Solution:\n",
    "    def minDominoRotations(self, A: 'List[int]', B: 'List[int]') -> int:\n",
    "        min_cnt = 20001\n",
    "        for num in range(1, 7):\n",
    "            found = True\n",
    "            cnt1 = 0\n",
    "            cnt2 = 0\n",
    "            for idx in range(len(A)):\n",
    "                if A[idx] != num and B[idx] != num:\n",
    "                    found = False\n",
    "                    break\n",
    "                cnt1 += 1 if B[idx] != num else 0\n",
    "                cnt2 += 1 if A[idx] != num else 0\n",
    "            if found == True:\n",
    "                min_cnt = min(cnt1, cnt2)\n",
    "        return -1 if min_cnt == 20001 else min_cnt"
   ]
  },
  {
   "cell_type": "markdown",
   "metadata": {},
   "source": [
    "## 1008. Construct Binary Search Tree from Preorder Traversal"
   ]
  },
  {
   "cell_type": "code",
   "execution_count": 10,
   "metadata": {},
   "outputs": [],
   "source": [
    "class TreeNode:\n",
    "    def __init__(self, x):\n",
    "        self.val = x\n",
    "        self.left = None\n",
    "        self.right = None\n",
    "class Solution:\n",
    "    def bstFromPreorder(self, preorder: 'List[int]') -> TreeNode:\n",
    "        inorder = sorted(preorder)\n",
    "        return self.btFromTraversal(preorder, inorder)\n",
    "    \n",
    "    def btFromTraversal(self, preorder, inorder):\n",
    "        if len(preorder) == 0:\n",
    "            return None\n",
    "        node = TreeNode(preorder[0])\n",
    "        pos = inorder.index(preorder[0])\n",
    "        inorderLeft = inorder[:pos]\n",
    "        inorderRight = inorder[pos+1:]\n",
    "        preorderLeft = preorder[1:pos+1]\n",
    "        preorderRight = preorder[pos+1:]\n",
    "        node.left = self.btFromTraversal(preorderLeft, inorderLeft)\n",
    "        node.right = self.btFromTraversal(preorderRight, inorderRight)\n",
    "        return node"
   ]
  }
 ],
 "metadata": {
  "kernelspec": {
   "display_name": "Python 3",
   "language": "python",
   "name": "python3"
  },
  "language_info": {
   "codemirror_mode": {
    "name": "ipython",
    "version": 3
   },
   "file_extension": ".py",
   "mimetype": "text/x-python",
   "name": "python",
   "nbconvert_exporter": "python",
   "pygments_lexer": "ipython3",
   "version": "3.6.5"
  }
 },
 "nbformat": 4,
 "nbformat_minor": 2
}
