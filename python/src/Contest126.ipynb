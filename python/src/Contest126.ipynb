{
 "cells": [
  {
   "cell_type": "markdown",
   "metadata": {},
   "source": [
    "## 1002. Find Common Characters"
   ]
  },
  {
   "cell_type": "code",
   "execution_count": 35,
   "metadata": {},
   "outputs": [],
   "source": [
    "class Solution:\n",
    "    def commonChars(self, A):\n",
    "        charCnt = []\n",
    "        for _ in range(26):\n",
    "            charCnt.append([0] * len(A))\n",
    "        for idx, word in enumerate(A):\n",
    "            for letter in word:\n",
    "                charCnt[ord(letter)-97][idx] += 1\n",
    "                \n",
    "        res = []\n",
    "        for idx1 in range(len(charCnt)):\n",
    "            minCnt = charCnt[idx1][0] + 1\n",
    "            for idx2 in range(len(charCnt[idx1])):\n",
    "                if charCnt[idx1][idx2] < minCnt:\n",
    "                    minCnt = charCnt[idx1][idx2]\n",
    "            res += [chr(97+idx1)] * minCnt\n",
    "        return res"
   ]
  },
  {
   "cell_type": "markdown",
   "metadata": {},
   "source": [
    "#### Note\n",
    "charCnt = [[0] * 5] * 26\n",
    "\n",
    "charCnt[0][0] += 1\n",
    "\n",
    "print(charCnt)\n",
    "\n",
    "## 1003. Check If Word Is Valid After Substitutions"
   ]
  },
  {
   "cell_type": "code",
   "execution_count": 32,
   "metadata": {},
   "outputs": [],
   "source": [
    "class Solution:\n",
    "    def isValid(self, S: str) -> bool:\n",
    "        if len(S) == 0:\n",
    "            return True\n",
    "        if len(S) % 3 != 0 or S[0] != 'a' or S[-1] != 'c':\n",
    "            return False\n",
    "        S = S.replace(\"abc\", \"\")\n",
    "        return self.isValid(S)"
   ]
  },
  {
   "cell_type": "markdown",
   "metadata": {},
   "source": [
    "#### Note\n",
    "S = 'abbc'\n",
    "S[:-3] \"a\"\n",
    "S[-3:] \"bbc\"\n",
    "\n",
    "What type of question?\n",
    "\n",
    "S.replace(\"abc\", \"\")"
   ]
  },
  {
   "cell_type": "code",
   "execution_count": null,
   "metadata": {},
   "outputs": [],
   "source": []
  }
 ],
 "metadata": {
  "kernelspec": {
   "display_name": "Python 3",
   "language": "python",
   "name": "python3"
  },
  "language_info": {
   "codemirror_mode": {
    "name": "ipython",
    "version": 3
   },
   "file_extension": ".py",
   "mimetype": "text/x-python",
   "name": "python",
   "nbconvert_exporter": "python",
   "pygments_lexer": "ipython3",
   "version": "3.6.5"
  }
 },
 "nbformat": 4,
 "nbformat_minor": 2
}
