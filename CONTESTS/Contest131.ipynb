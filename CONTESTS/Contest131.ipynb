{
 "cells": [
  {
   "cell_type": "markdown",
   "metadata": {},
   "source": [
    "## 5016. Remove Outermost Parentheses"
   ]
  },
  {
   "cell_type": "code",
   "execution_count": null,
   "metadata": {},
   "outputs": [],
   "source": [
    "class Solution:\n",
    "    def removeOuterParentheses(self, S: str) -> str:\n",
    "        res = ''\n",
    "        cnt = 0\n",
    "        for ch in S:\n",
    "            if ch == '(':\n",
    "                cnt += 1\n",
    "            else:\n",
    "                cnt -= 1\n",
    "            if (ch == '(' and cnt == 1) or \\\n",
    "                (ch == ')' and cnt == 0):\n",
    "                continue\n",
    "            res += ch\n",
    "        return res"
   ]
  },
  {
   "cell_type": "markdown",
   "metadata": {},
   "source": [
    "## 5017. Sum of Root To Leaf Binary Numbers"
   ]
  },
  {
   "cell_type": "code",
   "execution_count": null,
   "metadata": {},
   "outputs": [],
   "source": [
    "class Solution:\n",
    "    def sumRootToLeaf(self, root: TreeNode) -> int:\n",
    "        prev = 0\n",
    "        res = [0]\n",
    "        self.helper(root, prev, res)\n",
    "        return int(res[0])\n",
    "        \n",
    "    def helper(self, root, prev, res):\n",
    "        prev = (prev % (1e9 + 7) * 2 + root.val) % (1e9+7)\n",
    "        if root.left is not None:\n",
    "            self.helper(root.left, prev, res)\n",
    "        if root.right is not None:\n",
    "            self.helper(root.right, prev, res)\n",
    "        if root.left is None and root.right is None:\n",
    "            res[0] += prev\n",
    "            res[0] = res[0] % (1e9+7)"
   ]
  },
  {
   "cell_type": "markdown",
   "metadata": {},
   "source": [
    "## 5018. Camelcase Matching"
   ]
  },
  {
   "cell_type": "code",
   "execution_count": 8,
   "metadata": {},
   "outputs": [],
   "source": [
    "class Solution:\n",
    "    def camelMatch(self, queries: 'List[str]', pattern: str) -> 'List[bool]':\n",
    "        res = []\n",
    "        for query in queries:\n",
    "            res.append(self.camelMatchSingle(query, pattern))\n",
    "        return res\n",
    "    \n",
    "    def camelMatchSingle(self, query, pattern):\n",
    "        p1 = 0\n",
    "        p2 = 0\n",
    "        while p1 < len(query) and p2 < len(pattern):\n",
    "            if pattern[p2].isupper():\n",
    "                if query[p1].islower():\n",
    "                    p1 += 1\n",
    "                    continue\n",
    "                elif query[p1] == pattern[p2]:\n",
    "                    p1 += 1\n",
    "                    p2 += 1\n",
    "                    continue\n",
    "                else:\n",
    "                    return False\n",
    "            else:\n",
    "                if query[p1].isupper():\n",
    "                    return False\n",
    "                if query[p1] == pattern[p2]:\n",
    "                    p2 += 1\n",
    "                p1 += 1\n",
    "                \n",
    "        if p1 == len(query):\n",
    "            return p2 == len(pattern)\n",
    "        while p1 < len(query):\n",
    "            if query[p1].isupper():\n",
    "                return False\n",
    "            p1 += 1\n",
    "        return True"
   ]
  },
  {
   "cell_type": "markdown",
   "metadata": {},
   "source": [
    "## 5019. Video Stitching"
   ]
  },
  {
   "cell_type": "code",
   "execution_count": 10,
   "metadata": {},
   "outputs": [],
   "source": [
    "class Solution:\n",
    "    def videoStitching(self, clips: 'List[List[int]]', T: int) -> int:\n",
    "        maxJump = {}\n",
    "        for clip in clips:\n",
    "            tmp = maxJump.get(clip[0], -1)\n",
    "            maxJump[clip[0]] = max(tmp, clip[1])\n",
    "        \n",
    "        start = 0\n",
    "        if start not in maxJump:\n",
    "            return -1\n",
    "        end = maxJump[start]\n",
    "        furthest = end\n",
    "        if furthest >= T:\n",
    "            return 1\n",
    "        cnt = 1\n",
    "        while True:\n",
    "            for pos in range(start + 1, end + 1):\n",
    "                if maxJump.get(pos, -1) > furthest:\n",
    "                    furthest = maxJump.get(pos, -1)\n",
    "            if furthest == end:\n",
    "                return -1\n",
    "            start = end\n",
    "            end = furthest\n",
    "            cnt += 1\n",
    "            if furthest >= T:\n",
    "                return cnt"
   ]
  }
 ],
 "metadata": {
  "kernelspec": {
   "display_name": "Python 3",
   "language": "python",
   "name": "python3"
  },
  "language_info": {
   "codemirror_mode": {
    "name": "ipython",
    "version": 3
   },
   "file_extension": ".py",
   "mimetype": "text/x-python",
   "name": "python",
   "nbconvert_exporter": "python",
   "pygments_lexer": "ipython3",
   "version": "3.6.5"
  }
 },
 "nbformat": 4,
 "nbformat_minor": 2
}
