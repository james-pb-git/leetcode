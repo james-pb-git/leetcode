{
 "cells": [
  {
   "cell_type": "markdown",
   "metadata": {},
   "source": [
    "## 1018. Binary Prefix Divisible By 5"
   ]
  },
  {
   "cell_type": "code",
   "execution_count": 3,
   "metadata": {},
   "outputs": [],
   "source": [
    "class Solution:\n",
    "    def prefixesDivBy5(self, A: 'List[int]') -> 'List[bool]':\n",
    "        res = []\n",
    "        num = 0\n",
    "        for ele in A:\n",
    "            num = (num * 2 + ele) % 5\n",
    "            res.append(num == 0)\n",
    "        return res"
   ]
  },
  {
   "cell_type": "markdown",
   "metadata": {},
   "source": [
    "## 1017. Convert to base -2\n",
    "Kind of tricky. Check this out and the problem becomes much clearer.\n",
    "https://en.wikipedia.org/wiki/Negative_base#Calculation"
   ]
  },
  {
   "cell_type": "code",
   "execution_count": 33,
   "metadata": {},
   "outputs": [],
   "source": [
    "class Solution:\n",
    "    def baseNeg2(self, N: int) -> str:\n",
    "        res = ''\n",
    "        while N != 0:\n",
    "            remainder = N % (-2)\n",
    "            N = N // (-2)\n",
    "            if remainder < 0:\n",
    "                remainder += 2\n",
    "                N += 1\n",
    "            res = str(remainder) + res\n",
    "        return res if res != '' else '0'"
   ]
  },
  {
   "cell_type": "code",
   "execution_count": null,
   "metadata": {},
   "outputs": [],
   "source": []
  }
 ],
 "metadata": {
  "kernelspec": {
   "display_name": "Python 3",
   "language": "python",
   "name": "python3"
  },
  "language_info": {
   "codemirror_mode": {
    "name": "ipython",
    "version": 3
   },
   "file_extension": ".py",
   "mimetype": "text/x-python",
   "name": "python",
   "nbconvert_exporter": "python",
   "pygments_lexer": "ipython3",
   "version": "3.6.5"
  }
 },
 "nbformat": 4,
 "nbformat_minor": 2
}
