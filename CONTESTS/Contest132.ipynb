{
 "cells": [
  {
   "cell_type": "markdown",
   "metadata": {},
   "source": [
    "## 1025. Divisor Game\n",
    "\n",
    "Straightfoward method: dynamic programming. For each num <= N, if any divisor of num x satifies that Alice would fail for (num-x), Alice must be able to win for num.  "
   ]
  },
  {
   "cell_type": "code",
   "execution_count": 3,
   "metadata": {},
   "outputs": [],
   "source": [
    "class Solution:\n",
    "    def divisorGame(self, N: int) -> bool:\n",
    "        arr = [0] * (N + 1)\n",
    "        for num in range(2, N+1):\n",
    "            win = False\n",
    "            for i in range(1, num):\n",
    "                if num % i == 0 and arr[num-i] == 0:\n",
    "                    win = True\n",
    "                    break\n",
    "            arr[num] = 1 if win else 0\n",
    "        return arr[N] == 1"
   ]
  },
  {
   "cell_type": "markdown",
   "metadata": {},
   "source": [
    "With some simple analysis, we find that Alice could win iff N is even.\n",
    "If N is odd, after any move, the next N would be even (since all divisors of an odd number are odd). Given some initial values:\n",
    "\n",
    "1 -> False\n",
    "\n",
    "2 -> True\n",
    "\n",
    "3 -> False\n",
    "\n",
    "4 -> True\n",
    "\n",
    "It is observed that if Alice gets an odd number, she will have to turn that into even number, which leads to Bos's winning.\n",
    "\n",
    "And, after Alice lose once at N, she would definately win for (N + 1), because she could make her first move by reducing N by one.\n",
    "\n",
    "Thanks to https://leetcode.com/problems/divisor-game/discuss/274566/just-return-N-2-0-(proof)"
   ]
  },
  {
   "cell_type": "code",
   "execution_count": null,
   "metadata": {},
   "outputs": [],
   "source": [
    "class Solution:\n",
    "    def divisorGame(self, N: int) -> bool:\n",
    "        return True if N % 2 == 0 else False"
   ]
  },
  {
   "cell_type": "markdown",
   "metadata": {},
   "source": [
    "## 1026. Maximum Difference Between Node and Ancestor"
   ]
  },
  {
   "cell_type": "code",
   "execution_count": null,
   "metadata": {},
   "outputs": [],
   "source": [
    "class Solution:\n",
    "    def maxAncestorDiff(self, root: TreeNode) -> int:\n",
    "        path_so_far = []\n",
    "        max_so_far = [0]\n",
    "        self.dfs(root, path_so_far, max_so_far)\n",
    "        return max_so_far[0]\n",
    "        \n",
    "    def dfs(self, node, path_so_far, max_so_far):\n",
    "        path_so_far.append(node.val)\n",
    "        if node.left is None and node.right is None:\n",
    "            max_so_far[0] = max(max_so_far[0], max(path_so_far) - min(path_so_far))\n",
    "            path_so_far.pop()\n",
    "            return\n",
    "        if node.left is not None:\n",
    "            self.dfs(node.left, path_so_far, max_so_far)\n",
    "        if node.right is not None:\n",
    "            self.dfs(node.right, path_so_far, max_so_far)\n",
    "        path_so_far.pop()\n",
    "        return"
   ]
  },
  {
   "cell_type": "markdown",
   "metadata": {},
   "source": [
    "## 1027. Longest Arithmetic Sequence\n",
    "\n",
    "__WRONG__ answer: we start by looking for the longest subsequence starting with each element. After finding any arithmetic sequence, we calculate the next expected value, and store this infomation in a dictionary as:\n",
    "\n",
    "{expected_value: (diff, cur_length)}\n",
    "\n",
    "The problem about this approach is that any expected_value might be expected in different sequences, we have to store all the possible (diff, cur_length) pairs for any expected_value.\n",
    "\n",
    "So my solution will fail for case like [1, 2, 3, 4, 5, 7, 9, 11, 13, 15, 17, 19]. Because when it first met the number 5, sequence [1, 2, 3, 4, 5] is longer than [1, 3, 5], so it just discard the sequence with a diff of 2."
   ]
  },
  {
   "cell_type": "code",
   "execution_count": null,
   "metadata": {},
   "outputs": [],
   "source": [
    "# This is a WRONG answer!! (Greedy algo)\n",
    "class Solution:\n",
    "    def longestArithSeqLength(self, A: List[int]) -> int:\n",
    "        max_len = 0\n",
    "        for idx1 in range(len(A)):\n",
    "            val_map = dict()\n",
    "            for idx2 in range(idx1 + 1, len(A)):\n",
    "                if A[idx2] in val_map:\n",
    "                    diff = val_map[A[idx2]][0]\n",
    "                    expected = A[idx2] + diff\n",
    "                    max_so_far = val_map[A[idx2]][1] + 1\n",
    "                    if expected not in val_map or val_map[expected][1] < max_so_far:\n",
    "                        val_map[expected] = (diff, max_so_far)\n",
    "                else:\n",
    "                    diff = A[idx2] - A[idx1]\n",
    "                    expected = A[idx2] + diff\n",
    "                    max_so_far = 2\n",
    "                    if expected not in val_map or val_map[expected][1] < max_so_far:\n",
    "                        val_map[expected] = (diff, max_so_far)\n",
    "            if len(val_map) > 0:\n",
    "                max_len = max(max_len, max([x[1] for x in val_map.values()]))\n",
    "        return max_len"
   ]
  },
  {
   "cell_type": "markdown",
   "metadata": {},
   "source": [
    "Correct answer with DP. To start with, we try to design a DP function like this:\n",
    "\n",
    "```\n",
    "dp(m) = the length of longest arithmetic subsequences ending at m.\n",
    "```\n",
    "But it's difficult to come up with any updating methods, since we haven't taken into consideration the common difference. In this case, a good approach is to use 2D DP instead.\n",
    "```\n",
    "dp(m, k) = the length of longest arithmetic subsequence ending at m with common difference k.\n",
    "```\n",
    "Now clearly dp(m, k) = dp(m-k, k) + 1"
   ]
  },
  {
   "cell_type": "code",
   "execution_count": 13,
   "metadata": {},
   "outputs": [],
   "source": [
    "# Accepted DP solution.\n",
    "class Solution:\n",
    "    def longestArithSeqLength(self, A: List[int]) -> int:\n",
    "        matrix = [{} for _ in range(len(A))]\n",
    "        max_so_far = 0\n",
    "        for idx1 in range(1, len(A)):\n",
    "            for idx2 in range(idx1):\n",
    "                diff = A[idx1] - A[idx2]\n",
    "                if diff in matrix[idx2]:\n",
    "                    matrix[idx1][diff] = matrix[idx2][diff] + 1\n",
    "                else:\n",
    "                    matrix[idx1][diff] = 2\n",
    "            max_so_far = max(max_so_far, max(matrix[idx1].values()))\n",
    "        return max_so_far"
   ]
  },
  {
   "cell_type": "code",
   "execution_count": 14,
   "metadata": {},
   "outputs": [
    {
     "data": {
      "text/plain": [
       "[[1], [1], [1]]"
      ]
     },
     "execution_count": 14,
     "metadata": {},
     "output_type": "execute_result"
    }
   ],
   "source": []
  },
  {
   "cell_type": "code",
   "execution_count": null,
   "metadata": {},
   "outputs": [],
   "source": []
  }
 ],
 "metadata": {
  "kernelspec": {
   "display_name": "Python 3",
   "language": "python",
   "name": "python3"
  },
  "language_info": {
   "codemirror_mode": {
    "name": "ipython",
    "version": 3
   },
   "file_extension": ".py",
   "mimetype": "text/x-python",
   "name": "python",
   "nbconvert_exporter": "python",
   "pygments_lexer": "ipython3",
   "version": "3.6.5"
  }
 },
 "nbformat": 4,
 "nbformat_minor": 2
}
