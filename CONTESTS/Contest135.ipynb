{
 "cells": [
  {
   "cell_type": "markdown",
   "metadata": {},
   "source": [
    "## 1037. Valid Boomerang"
   ]
  },
  {
   "cell_type": "code",
   "execution_count": null,
   "metadata": {},
   "outputs": [],
   "source": [
    "class Solution:\n",
    "    def isBoomerang(self, points: List[List[int]]) -> bool:\n",
    "        for pair in [(0, 1), (0, 2), (1, 2)]:\n",
    "            if points[pair[0]][0] == points[pair[1]][0] and \\\n",
    "               points[pair[0]][1] == points[pair[1]][1]:\n",
    "                return False\n",
    "        \n",
    "        diff_x_01 = points[0][0] - points[1][0]\n",
    "        diff_y_01 = points[0][1] - points[1][1]\n",
    "        diff_x_02 = points[0][0] - points[2][0]\n",
    "        diff_y_02 = points[0][1] - points[2][1]\n",
    "\n",
    "        return diff_x_01 * diff_y_02 != diff_x_02 * diff_y_01"
   ]
  },
  {
   "cell_type": "markdown",
   "metadata": {},
   "source": [
    "## 1038. Binary Search Tree to Greater Sum Tree"
   ]
  },
  {
   "cell_type": "code",
   "execution_count": null,
   "metadata": {},
   "outputs": [],
   "source": [
    "class Solution:\n",
    "    def bstToGst(self, root: TreeNode) -> TreeNode:\n",
    "        arr_val = []\n",
    "        self.bst_to_val(root, arr_val)\n",
    "        sum_val = [0] * len(arr_val)\n",
    "        prev = 0\n",
    "        for idx in range(len(arr_val) - 1, -1, -1):\n",
    "            sum_val[idx] = arr_val[idx] + prev\n",
    "            prev = sum_val[idx]\n",
    "        \n",
    "        start_idx = [0]\n",
    "        self.modify_bst(root, sum_val, start_idx)\n",
    "        return root\n",
    "        \n",
    "    def bst_to_val(self, root, arr):\n",
    "        if root is None:\n",
    "            return\n",
    "        self.bst_to_val(root.left, arr)\n",
    "        arr.append(root.val)\n",
    "        self.bst_to_val(root.right, arr)\n",
    "        \n",
    "    def modify_bst(self, root, sum_val, idx):\n",
    "        if root is None:\n",
    "            return\n",
    "        self.modify_bst(root.left, sum_val, idx)\n",
    "        root.val = sum_val[idx[0]]\n",
    "        idx[0] += 1\n",
    "        self.modify_bst(root.right, sum_val, idx)"
   ]
  },
  {
   "cell_type": "markdown",
   "metadata": {},
   "source": [
    "## 1039. Minimum Score Triangulation of Polygon"
   ]
  },
  {
   "cell_type": "code",
   "execution_count": 4,
   "metadata": {},
   "outputs": [],
   "source": [
    "class Solution:\n",
    "    def minScoreTriangulation(self, A: 'List[int]') -> int:\n",
    "        ans = [[0 for _ in range(len(A))] for _ in range(len(A))]\n",
    "        for idx1 in range(len(A)-1, -1, -1):\n",
    "            for idx2 in range(idx1, len(A)):\n",
    "                if idx2 - idx1 < 2:\n",
    "                    ans[idx1][idx2] = 0\n",
    "                elif idx2 - idx1 == 2:\n",
    "                    ans[idx1][idx2] = A[idx1] * A[idx1+1] * A[idx2]\n",
    "                else:\n",
    "                    val = -1\n",
    "                    for k in range(idx1 + 1, idx2):\n",
    "                        cur = ans[idx1][k] + ans[k][idx2] + A[idx1] * A[idx2] * A[k]\n",
    "                        if val == -1 or cur < val:\n",
    "                            val = cur\n",
    "                    ans[idx1][idx2] = val\n",
    "        return ans[0][len(A) - 1]"
   ]
  }
 ],
 "metadata": {
  "kernelspec": {
   "display_name": "Python 3",
   "language": "python",
   "name": "python3"
  },
  "language_info": {
   "codemirror_mode": {
    "name": "ipython",
    "version": 3
   },
   "file_extension": ".py",
   "mimetype": "text/x-python",
   "name": "python",
   "nbconvert_exporter": "python",
   "pygments_lexer": "ipython3",
   "version": "3.6.5"
  }
 },
 "nbformat": 4,
 "nbformat_minor": 2
}
