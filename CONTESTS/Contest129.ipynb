{
 "cells": [
  {
   "cell_type": "markdown",
   "metadata": {},
   "source": [
    "## 1020. Partition Array Into Three Parts With Equal Sum"
   ]
  },
  {
   "cell_type": "code",
   "execution_count": 1,
   "metadata": {},
   "outputs": [],
   "source": [
    "class Solution:\n",
    "    def canThreePartsEqualSum(self, A: 'List[int]') -> bool:\n",
    "        total = sum(A)\n",
    "        if round(total / 3) * 3 != total:\n",
    "            return False\n",
    "        target = round(total / 3)\n",
    "        cnt = 0\n",
    "        curSum = 0\n",
    "        for ele in A:\n",
    "            curSum += ele\n",
    "            if curSum == target:\n",
    "                curSum = 0\n",
    "                cnt += 1\n",
    "        return cnt >= 3 # if target == 0, we should allow cnt > 3."
   ]
  },
  {
   "cell_type": "markdown",
   "metadata": {},
   "source": [
    "## 1021. Best Sightseeing Pair\n",
    "Divide and conquer: TLE"
   ]
  },
  {
   "cell_type": "code",
   "execution_count": 2,
   "metadata": {},
   "outputs": [],
   "source": [
    "class Solution:\n",
    "    def maxScoreSightseeingPair(self, A: 'List[int]') -> int:\n",
    "        return self.helper(A, 0, len(A)-1)\n",
    "    \n",
    "    def helper(self, A, left, right):\n",
    "        if right - left == 1:\n",
    "            return A[left] + A[right] - 1\n",
    "        if right == left:\n",
    "            return -100000\n",
    "        mid = left + ((right - left) >> 1)\n",
    "        maxVal = -100000\n",
    "        curVal = 0\n",
    "        for idx in range(mid+1):\n",
    "            curVal = A[idx] + idx\n",
    "            if curVal > maxVal:\n",
    "                maxVal = curVal\n",
    "                \n",
    "        maxVal2 = -100000\n",
    "        curVal = 0\n",
    "        for idx in range(mid+1,len(A)):\n",
    "            curVal = A[idx] - idx\n",
    "            if curVal > maxVal2:\n",
    "                maxVal2 = curVal\n",
    "        return max(maxVal + maxVal2, self.helper(A, left, mid), self.helper(A, mid+1, right))"
   ]
  },
  {
   "cell_type": "markdown",
   "metadata": {},
   "source": [
    "Dynamic programming, accepted."
   ]
  },
  {
   "cell_type": "code",
   "execution_count": 4,
   "metadata": {},
   "outputs": [],
   "source": [
    "class Solution:\n",
    "    def maxScoreSightseeingPair(self, A: 'List[int]') -> int:\n",
    "        maxValPos = A[0]\n",
    "        maxEndingHere = -1\n",
    "        maxSoFar = -1\n",
    "        for idx, ele in enumerate(A[1:]):\n",
    "            maxEndingHere = max(maxEndingHere, ele - (idx + 1) + maxValPos)\n",
    "            maxSoFar = max(maxSoFar, maxEndingHere)\n",
    "            \n",
    "            maxValPos = max(maxValPos, ele + (idx + 1) )\n",
    "        return maxSoFar"
   ]
  },
  {
   "cell_type": "markdown",
   "metadata": {},
   "source": [
    "## 1022. Smallest Integer Divisible by K\n",
    "\n",
    "Main idea: If none of the remainders is 0, then at some point, there must be some duplicate remainders (due to Pigeonhole principle), as the K remainders can only take at most K-1 different values excluding 0. In this case, no number with the pattern 1...1 is divisible by K. \n",
    "\n",
    "This is because once a remainder has a duplicate, the next remainder will be in a loop, as the previous remainder determines the next_mod, i.e., \n",
    "\n",
    "**next_mod = (10 * prev_mod + 1) % K**. \n",
    "\n",
    "Therefore, we will never see remainder==0.\n",
    "\n",
    "Source: https://leetcode.com/problems/smallest-integer-divisible-by-k/discuss/260875/Python-O(K)-with-Detailed-Explanations\n",
    "\n",
    "Further explanation:\n",
    "```\n",
    "(10 * num + 1) % K \n",
    "= (10 * (M * K + (num%K)) + 1 % K \n",
    "= (10MK + 10 * (num%k) + 1) % K \n",
    "= (10 * (num%K) + 1) % K \n",
    "```\n",
    "    "
   ]
  },
  {
   "cell_type": "code",
   "execution_count": 5,
   "metadata": {},
   "outputs": [],
   "source": [
    "class Solution:\n",
    "    def smallestRepunitDivByK(self, K: int) -> int:\n",
    "        if K % 10 not in {1, 3, 7, 9}:\n",
    "            return -1\n",
    "        mod = 1 % K\n",
    "        set_mod = set()\n",
    "        for length in range(1, K + 1):\n",
    "            if mod == 0:\n",
    "                return length\n",
    "            if mod in set_mod:\n",
    "                return -1\n",
    "            set_mod.add(mod)\n",
    "            \n",
    "            mod = (10 * mod + 1) % K\n",
    "        return -1"
   ]
  },
  {
   "cell_type": "code",
   "execution_count": null,
   "metadata": {},
   "outputs": [],
   "source": []
  }
 ],
 "metadata": {
  "kernelspec": {
   "display_name": "Python 3",
   "language": "python",
   "name": "python3"
  },
  "language_info": {
   "codemirror_mode": {
    "name": "ipython",
    "version": 3
   },
   "file_extension": ".py",
   "mimetype": "text/x-python",
   "name": "python",
   "nbconvert_exporter": "python",
   "pygments_lexer": "ipython3",
   "version": "3.6.5"
  }
 },
 "nbformat": 4,
 "nbformat_minor": 2
}
