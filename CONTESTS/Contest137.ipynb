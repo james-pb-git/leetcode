{
 "cells": [
  {
   "cell_type": "markdown",
   "metadata": {},
   "source": [
    "## 1046. Last Stone Weight"
   ]
  },
  {
   "cell_type": "code",
   "execution_count": null,
   "metadata": {},
   "outputs": [],
   "source": [
    "class Solution(object):\n",
    "    def lastStoneWeight(self, stones):\n",
    "        \"\"\"\n",
    "        :type stones: List[int]\n",
    "        :rtype: int\n",
    "        \"\"\"\n",
    "        if len(stones) == 1:\n",
    "            return stones[0]\n",
    "        \n",
    "        left = 0\n",
    "        num_stone = len([stone for stone in stones if stone > 0])\n",
    "        max_val = -1\n",
    "        max_idx = -1\n",
    "        sec_val = -1\n",
    "        sec_idx = -1\n",
    "        while num_stone > 1:\n",
    "            if stones[0] > stones[1]:\n",
    "                max_val = stones[0]\n",
    "                max_idx = 0\n",
    "                sec_val = stones[1]\n",
    "                sec_idx = 1\n",
    "            else:\n",
    "                max_val = stones[1]\n",
    "                max_idx = 1\n",
    "                sec_val = stones[0]\n",
    "                sec_idx = 0\n",
    "            for idx in range(2, len(stones)):\n",
    "                if stones[idx] > sec_val:\n",
    "                    if stones[idx] > max_val:\n",
    "                        sec_val = max_val\n",
    "                        sec_idx = max_idx\n",
    "                        max_val = stones[idx]\n",
    "                        max_idx = idx\n",
    "                    else:\n",
    "                        sec_val = stones[idx]\n",
    "                        sec_idx = idx\n",
    "            stones[max_idx] -= sec_val\n",
    "            stones[sec_idx] -= sec_val\n",
    "            num_stone = len([stone for stone in stones if stone > 0])\n",
    "        return max(stones)"
   ]
  },
  {
   "cell_type": "markdown",
   "metadata": {},
   "source": [
    "## 1047. Remove All Adjacent Duplicates In String"
   ]
  },
  {
   "cell_type": "code",
   "execution_count": null,
   "metadata": {},
   "outputs": [],
   "source": [
    "class Solution(object):\n",
    "    def removeDuplicates(self, S):\n",
    "        \"\"\"\n",
    "        :type S: str\n",
    "        :rtype: str\n",
    "        \"\"\"\n",
    "        if len(S) == 1:\n",
    "            return S\n",
    "        \n",
    "        stack = [S[0]]\n",
    "        for idx in range(1, len(S)):\n",
    "            if len(stack) != 0 and stack[-1] == S[idx]:\n",
    "                del stack[-1]\n",
    "            else:\n",
    "                stack.append(S[idx])\n",
    "        return ''.join(stack)"
   ]
  },
  {
   "cell_type": "markdown",
   "metadata": {},
   "source": [
    "## 1048. Longest String Chain"
   ]
  },
  {
   "cell_type": "code",
   "execution_count": null,
   "metadata": {},
   "outputs": [],
   "source": [
    "class Solution(object):\n",
    "    def longestStrChain(self, words):\n",
    "        \"\"\"\n",
    "        :type words: List[str]\n",
    "        :rtype: int\n",
    "        \"\"\"\n",
    "        words = sorted(words, key = lambda x: len(x))\n",
    "        print(words)\n",
    "        dp = [0] * len(words)\n",
    "        dp[0] = 1\n",
    "        for i in range(1, len(dp)):\n",
    "            max_len = 1\n",
    "            for j in range(i):\n",
    "                if self.isPred(words[j], words[i]):\n",
    "                    if dp[j] + 1 > max_len:\n",
    "                        max_len = dp[j] + 1\n",
    "            dp[i] = max_len\n",
    "        return max(dp)\n",
    "        \n",
    "    def isPred(self, word1, word2):\n",
    "        if len(word2) - len(word1) != 1:\n",
    "            return False\n",
    "        i = 0\n",
    "        j = 0\n",
    "        found_diff = False\n",
    "        while i < len(word1) and j < len(word2):\n",
    "            if word1[i] == word2[j]:\n",
    "                i += 1\n",
    "                j += 1\n",
    "            else:\n",
    "                if not found_diff:\n",
    "                    found_diff = True\n",
    "                    j += 1\n",
    "                else:\n",
    "                    return False\n",
    "        return i == len(word1)"
   ]
  }
 ],
 "metadata": {
  "kernelspec": {
   "display_name": "Python 3",
   "language": "python",
   "name": "python3"
  },
  "language_info": {
   "codemirror_mode": {
    "name": "ipython",
    "version": 3
   },
   "file_extension": ".py",
   "mimetype": "text/x-python",
   "name": "python",
   "nbconvert_exporter": "python",
   "pygments_lexer": "ipython3",
   "version": "3.6.5"
  }
 },
 "nbformat": 4,
 "nbformat_minor": 2
}
